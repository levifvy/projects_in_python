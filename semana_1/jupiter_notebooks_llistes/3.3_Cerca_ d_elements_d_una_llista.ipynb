{
 "cells": [
  {
   "cell_type": "markdown",
   "metadata": {},
   "source": [
    "3.3 CERCA D'ELEMENTS D'UNA LLISTA\n",
    "\n",
    "--> count\n",
    "\n",
    "llista.count(element) ----- Compta número d’aparicions d'element.\n",
    "\n",
    "--> index\n",
    "\n",
    "llista.index(element) ----- Troba primera posició d'element o error si no troba element.\n",
    "\n",
    "--> in/not in\n",
    "\n",
    "element in llista       True     False\n",
    "\n",
    "element not in llista   True     False\n"
   ]
  },
  {
   "cell_type": "markdown",
   "metadata": {},
   "source": [
    "COUNT"
   ]
  },
  {
   "cell_type": "code",
   "execution_count": null,
   "metadata": {},
   "outputs": [],
   "source": [
    "llista = ['as', '3', '6', '8']\n",
    "\n",
    "print(llista.count('a'))\n",
    "\n",
    "print(llista.count('3'))\n",
    "\n",
    "print(llista.count('as'))"
   ]
  },
  {
   "cell_type": "markdown",
   "metadata": {},
   "source": [
    "INDEX"
   ]
  },
  {
   "cell_type": "code",
   "execution_count": 10,
   "metadata": {},
   "outputs": [
    {
     "name": "stdout",
     "output_type": "stream",
     "text": [
      "0\n",
      "1\n",
      "1\n"
     ]
    }
   ],
   "source": [
    "llista = ['as', '3', '6', '8']\n",
    "\n",
    "print(llista.index('as'))\n",
    "\n",
    "print(llista.index('3'))\n",
    "\n",
    "print(llista.index('3'))"
   ]
  },
  {
   "cell_type": "markdown",
   "metadata": {},
   "source": [
    "IN / NOT IN"
   ]
  },
  {
   "cell_type": "code",
   "execution_count": null,
   "metadata": {},
   "outputs": [],
   "source": [
    "llista = ['as', '3', '6', '8']\n",
    "\n",
    "print( 'as' in llista )\n",
    "\n",
    "print('as' not in llista)\n",
    "\n",
    "print( 3 not in llista)\n",
    "\n",
    "print('3' in llista)\n",
    "\n"
   ]
  }
 ],
 "metadata": {
  "kernelspec": {
   "display_name": "base",
   "language": "python",
   "name": "python3"
  },
  "language_info": {
   "codemirror_mode": {
    "name": "ipython",
    "version": 3
   },
   "file_extension": ".py",
   "mimetype": "text/x-python",
   "name": "python",
   "nbconvert_exporter": "python",
   "pygments_lexer": "ipython3",
   "version": "3.12.6"
  }
 },
 "nbformat": 4,
 "nbformat_minor": 2
}
