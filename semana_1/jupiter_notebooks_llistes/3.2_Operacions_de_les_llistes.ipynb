{
 "cells": [
  {
   "cell_type": "markdown",
   "metadata": {},
   "source": [
    "3.2 OPERACIONS DE LES LLISTES\n",
    "\n",
    "Les  llistes és poden sumar + i multiplicar *\n",
    "\n",
    "SUMA: llista1 + llista2\n",
    "\n",
    "MULTIPLICACIÓ: 3  *  llista"
   ]
  },
  {
   "cell_type": "markdown",
   "metadata": {},
   "source": [
    "SUMA : llista1 + llista2"
   ]
  },
  {
   "cell_type": "code",
   "execution_count": 5,
   "metadata": {},
   "outputs": [
    {
     "name": "stdout",
     "output_type": "stream",
     "text": [
      "[1, 3, 6, 15, 20, 40, 57, 68]\n"
     ]
    }
   ],
   "source": [
    "llista1 = [1,20,3,15,6] \n",
    "\n",
    "llista2 = [40, 57, 68]\n",
    "\n",
    "print(sorted(llista1 + llista2))"
   ]
  },
  {
   "cell_type": "markdown",
   "metadata": {},
   "source": [
    "MULTIPLICACIÓ:  3 * llista"
   ]
  },
  {
   "cell_type": "code",
   "execution_count": 2,
   "metadata": {},
   "outputs": [
    {
     "data": {
      "text/plain": [
       "[1, 20, 45, 1, 20, 45, 1, 20, 45]"
      ]
     },
     "execution_count": 2,
     "metadata": {},
     "output_type": "execute_result"
    }
   ],
   "source": [
    "llista = [1, 20, 45]\n",
    "\n",
    "3 * llista"
   ]
  }
 ],
 "metadata": {
  "kernelspec": {
   "display_name": "base",
   "language": "python",
   "name": "python3"
  },
  "language_info": {
   "codemirror_mode": {
    "name": "ipython",
    "version": 3
   },
   "file_extension": ".py",
   "mimetype": "text/x-python",
   "name": "python",
   "nbconvert_exporter": "python",
   "pygments_lexer": "ipython3",
   "version": "3.12.6"
  }
 },
 "nbformat": 4,
 "nbformat_minor": 2
}
